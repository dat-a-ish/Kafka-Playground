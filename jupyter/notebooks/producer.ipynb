{
 "cells": [
  {
   "cell_type": "code",
   "execution_count": 14,
   "id": "6b320568-a969-46db-85f5-13a5e67c40a5",
   "metadata": {},
   "outputs": [
    {
     "name": "stdout",
     "output_type": "stream",
     "text": [
      "Message delivered to my_topic [1]\n"
     ]
    },
    {
     "data": {
      "text/plain": [
       "0"
      ]
     },
     "execution_count": 14,
     "metadata": {},
     "output_type": "execute_result"
    }
   ],
   "source": [
    "from confluent_kafka import Producer\n",
    "\n",
    "\n",
    "# Callback to handle delivery report\n",
    "def delivery_report(err, msg):\n",
    "    if err is not None:\n",
    "        print('Message delivery failed: {}'.format(err))\n",
    "    else:\n",
    "        print('Message delivered to {} [{}]'.format(msg.topic(),\n",
    "                                                    msg.partition()))\n",
    "\n",
    "\n",
    "# Set up the Producer configuration\n",
    "conf = {\n",
    "    'bootstrap.servers': 'kafka:9092',\n",
    "    'client.id': 'python-producer'\n",
    "}\n",
    "\n",
    "# Create a Producer instance\n",
    "producer = Producer(conf)\n",
    "\n",
    "# Produce a message\n",
    "producer.produce('my_topic', key='key', value='hello Kafka1234!',\n",
    "                 callback=delivery_report)\n",
    "\n",
    "\n",
    "producer.flush()\n"
   ]
  }
 ],
 "metadata": {
  "kernelspec": {
   "display_name": "Python 3.11",
   "language": "python",
   "name": "python3.11"
  },
  "language_info": {
   "codemirror_mode": {
    "name": "ipython",
    "version": 3
   },
   "file_extension": ".py",
   "mimetype": "text/x-python",
   "name": "python",
   "nbconvert_exporter": "python",
   "pygments_lexer": "ipython3",
   "version": "3.11.10"
  }
 },
 "nbformat": 4,
 "nbformat_minor": 5
}
