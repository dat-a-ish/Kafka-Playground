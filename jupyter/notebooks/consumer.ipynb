{
 "cells": [
  {
   "cell_type": "code",
   "execution_count": 1,
   "id": "7ded0a79-5548-4576-b729-9f21aed32501",
   "metadata": {},
   "outputs": [
    {
     "name": "stdout",
     "output_type": "stream",
     "text": [
      "Received message: hello Kafka!\n",
      "Received message: hello Kafka!\n",
      "Received message: hello Kafka!\n",
      "Received message: hello Kafka!\n",
      "Received message: hello Kafka!\n",
      "Received message: hello Kafka!\n",
      "Received message: hello Kafka!\n",
      "Received message: hello Kafka!\n",
      "Received message: hello Kafka!\n",
      "Received message: hello Kafka1234!\n",
      "Received message: hello Kafka1234!\n",
      "Received message: hello Kafka1234!\n",
      "Received message: hello Kafka1234!\n",
      "Received message: hello Kafka1234!\n",
      "Consuming interrupted.\n"
     ]
    }
   ],
   "source": [
    "from confluent_kafka import Consumer, KafkaException, KafkaError\n",
    "\n",
    "# Set up the Consumer configuration\n",
    "conf = {\n",
    "    'bootstrap.servers': 'kafka:9092',  # Change this to your Kafka server address\n",
    "    'group.id': 'python-consumer-group',  # Consumer group ID\n",
    "    'auto.offset.reset': 'earliest'  # Start reading from the earliest message\n",
    "}\n",
    "\n",
    "# Create a Consumer instance\n",
    "consumer = Consumer(conf)\n",
    "\n",
    "# Subscribe to the topic\n",
    "consumer.subscribe(['my_topic'])\n",
    "\n",
    "try:\n",
    "    while True:\n",
    "        # Poll for a message\n",
    "        msg = consumer.poll(timeout=1.0)  # Adjust timeout as needed\n",
    "        \n",
    "        if msg is None:\n",
    "            # No message returned\n",
    "            continue\n",
    "        if msg.error():\n",
    "            # Error handling\n",
    "            if msg.error().code() == KafkaError._PARTITION_EOF:\n",
    "                print('End of partition reached: {}'.format(msg))\n",
    "            else:\n",
    "                raise KafkaException(msg.error())\n",
    "        else:\n",
    "            # Successfully received a message\n",
    "            print('Received message: {}'.format(msg.value().decode('utf-8')))\n",
    "except KeyboardInterrupt:\n",
    "    print('Consuming interrupted.')\n",
    "finally:\n",
    "    # Close the consumer to commit offsets and clean up\n",
    "    consumer.close()"
   ]
  }
 ],
 "metadata": {
  "kernelspec": {
   "display_name": "Python 3.11",
   "language": "python",
   "name": "python3.11"
  },
  "language_info": {
   "codemirror_mode": {
    "name": "ipython",
    "version": 3
   },
   "file_extension": ".py",
   "mimetype": "text/x-python",
   "name": "python",
   "nbconvert_exporter": "python",
   "pygments_lexer": "ipython3",
   "version": "3.11.10"
  }
 },
 "nbformat": 4,
 "nbformat_minor": 5
}
